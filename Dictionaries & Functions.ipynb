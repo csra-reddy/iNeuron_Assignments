{
 "cells": [
  {
   "cell_type": "raw",
   "id": "334c0844",
   "metadata": {},
   "source": [
    "1.1 Write a Python Program(with class concepts) to find the area of the triangle using the below\n",
    "formula.\n",
    "\n",
    "area = (s*(s-a)*(s-b)*(s-c)) ** 0.5\n",
    "\n",
    "\n",
    "Function to take the length of the sides of triangle from user should be defined in the parent\n",
    "class and function to calculate the area should be defined in subclass"
   ]
  },
  {
   "cell_type": "code",
   "execution_count": 1,
   "id": "a9e8241a",
   "metadata": {},
   "outputs": [
    {
     "name": "stdout",
     "output_type": "stream",
     "text": [
      "area of the triangle 10.825317547305483\n"
     ]
    }
   ],
   "source": [
    "def area_triangle (a,b,c):\n",
    "    s = (a+b+c)/2\n",
    "    area = (s*(s-a)*(s-b)*(s-c))**0.5\n",
    "    print(\"area of the triangle\",area)\n",
    "area_triangle(5,5,5)"
   ]
  },
  {
   "cell_type": "markdown",
   "id": "92e671f2",
   "metadata": {},
   "source": [
    "1.2 Write a function filter_long_words() that takes a list of words and an integer n and returns\n",
    "the list of words that are longer than n."
   ]
  },
  {
   "cell_type": "code",
   "execution_count": 5,
   "id": "86f6f7db",
   "metadata": {},
   "outputs": [
    {
     "name": "stdout",
     "output_type": "stream",
     "text": [
      "Enter no. of elements: 5\n",
      "['Chandra', 'Dhruv Devansh']\n"
     ]
    }
   ],
   "source": [
    "def filter_long_words(*list_of_words):\n",
    "    n=int(input(\"Enter no. of elements: \"))\n",
    "    large_words=[]\n",
    "    for i in list_of_words:\n",
    "        if len(i)>n:\n",
    "            large_words.append(i)\n",
    "    return large_words\n",
    "check=filter_long_words(\"Revti\",\"Chandra\",\"Dhruv Devansh\",\"Sai\",\"88770\")\n",
    "print(check)"
   ]
  },
  {
   "cell_type": "raw",
   "id": "58b443e0",
   "metadata": {},
   "source": [
    "2.1 Write a Python program using function concept that maps list of words into a list of integers representing the lengths of the corresponding words.\n",
    "\n",
    "Hint: If a list [ab,cde,erty] is passed on to the python function output should come as [2,3,4]\n",
    "\n",
    "Here 2,3 and 4 are the lengths of the words in the list."
   ]
  },
  {
   "cell_type": "code",
   "execution_count": 6,
   "id": "be60411b",
   "metadata": {},
   "outputs": [
    {
     "name": "stdout",
     "output_type": "stream",
     "text": [
      "[5, 7, 13, 3]\n"
     ]
    }
   ],
   "source": [
    "def list_of_words(*words):\n",
    "    length_of_words=[]\n",
    "    for i in words:\n",
    "        length=len(i)\n",
    "        length_of_words.append(length)\n",
    "    return length_of_words\n",
    "check=list_of_words(\"Revti\", \"Chandra\", \"Dhruv Devansh\",\"Sai\")\n",
    "print(check)"
   ]
  },
  {
   "cell_type": "markdown",
   "id": "577b2a03",
   "metadata": {},
   "source": [
    "2.2 Write a Python function which takes a character (i.e. a string of length 1) and returns True if\n",
    "it is a vowel, False otherwise."
   ]
  },
  {
   "cell_type": "code",
   "execution_count": 7,
   "id": "36eccc62",
   "metadata": {},
   "outputs": [
    {
     "name": "stdout",
     "output_type": "stream",
     "text": [
      "Enter a vowel:e\n",
      "Is entered element a vowel: True\n",
      "Enter a vowel again:h\n",
      "Is entered element a vowel: False\n"
     ]
    }
   ],
   "source": [
    "def vowel(a):\n",
    "    if a==\"a\" or a==\"e\" or a==\"i\" or a==\"o\" or a==\"u\":\n",
    "        return True\n",
    "    else:\n",
    "        return False\n",
    "b=vowel(input(\"Enter a vowel:\"))\n",
    "print(\"Is entered element a vowel:\", b)\n",
    "c=vowel(input(\"Enter a vowel again:\"))\n",
    "print(\"Is entered element a vowel:\", c)"
   ]
  },
  {
   "cell_type": "code",
   "execution_count": null,
   "id": "36afc7b9",
   "metadata": {},
   "outputs": [],
   "source": []
  }
 ],
 "metadata": {
  "kernelspec": {
   "display_name": "Python 3",
   "language": "python",
   "name": "python3"
  },
  "language_info": {
   "codemirror_mode": {
    "name": "ipython",
    "version": 3
   },
   "file_extension": ".py",
   "mimetype": "text/x-python",
   "name": "python",
   "nbconvert_exporter": "python",
   "pygments_lexer": "ipython3",
   "version": "3.8.8"
  }
 },
 "nbformat": 4,
 "nbformat_minor": 5
}
